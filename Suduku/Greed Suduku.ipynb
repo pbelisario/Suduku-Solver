{
 "cells": [
  {
   "cell_type": "code",
   "execution_count": 1,
   "metadata": {},
   "outputs": [],
   "source": [
    "import numpy as np\n",
    "grid = [[8,0,0,0,0,0,0,0,0],\n",
    "        [0,0,3,6,0,0,0,0,0],\n",
    "        [0,7,0,0,9,0,2,0,0],\n",
    "        [0,5,0,0,0,7,0,0,0],\n",
    "        [0,0,0,0,4,5,7,0,0],\n",
    "        [0,0,0,1,0,0,0,3,0],\n",
    "        [0,0,1,0,0,0,0,6,8],\n",
    "        [0,0,8,5,0,0,0,1,0],\n",
    "        [0,9,0,0,0,0,4,0,0]]"
   ]
  },
  {
   "cell_type": "code",
   "execution_count": 2,
   "metadata": {},
   "outputs": [],
   "source": [
    "def possible(x,y,n):\n",
    "    global grid\n",
    "    for i in range(9):\n",
    "        if grid[x][i] == n:\n",
    "            return False\n",
    "    for i in range(9):\n",
    "        if grid[i][y] == n:\n",
    "            return False\n",
    "    x0 = (x//3) * 3\n",
    "    y0 = (y//3) * 3\n",
    "    \n",
    "    for i in range(3):\n",
    "        for j in range(3):\n",
    "            if grid[x0+i][y0+j] == n:\n",
    "                return False\n",
    "    return True"
   ]
  },
  {
   "cell_type": "code",
   "execution_count": 3,
   "metadata": {},
   "outputs": [],
   "source": [
    "def solve():\n",
    "    global grid\n",
    "    for x in range(9):\n",
    "        for y in range(9):\n",
    "            if grid[x][y] == 0:\n",
    "                for n in range(1, 10):\n",
    "                    if possible(x,y,n):\n",
    "                        grid[x][y] = n\n",
    "                        solve()\n",
    "                        grid[x][y] = 0\n",
    "                return\n",
    "    print(np.matrix(grid))"
   ]
  },
  {
   "cell_type": "code",
   "execution_count": 4,
   "metadata": {},
   "outputs": [
    {
     "name": "stdout",
     "output_type": "stream",
     "text": [
      "[[8 1 2 7 5 3 6 4 9]\n",
      " [9 4 3 6 8 2 1 7 5]\n",
      " [6 7 5 4 9 1 2 8 3]\n",
      " [1 5 4 2 3 7 8 9 6]\n",
      " [3 6 9 8 4 5 7 2 1]\n",
      " [2 8 7 1 6 9 5 3 4]\n",
      " [5 2 1 9 7 4 3 6 8]\n",
      " [4 3 8 5 2 6 9 1 7]\n",
      " [7 9 6 3 1 8 4 5 2]]\n"
     ]
    }
   ],
   "source": [
    "solve()"
   ]
  },
  {
   "cell_type": "code",
   "execution_count": null,
   "metadata": {},
   "outputs": [],
   "source": []
  }
 ],
 "metadata": {
  "kernelspec": {
   "display_name": "Python 3",
   "language": "python",
   "name": "python3"
  },
  "language_info": {
   "codemirror_mode": {
    "name": "ipython",
    "version": 3
   },
   "file_extension": ".py",
   "mimetype": "text/x-python",
   "name": "python",
   "nbconvert_exporter": "python",
   "pygments_lexer": "ipython3",
   "version": "3.7.3"
  }
 },
 "nbformat": 4,
 "nbformat_minor": 2
}
